{
 "cells": [
  {
   "cell_type": "markdown",
   "source": [
    "# NNFS Chapter 2 - Coding Our First Neurons\n",
    "\n",
    "* [Single neuron with 3 inputs example](https://nnfs.io/bkr/)\n",
    "* [A single neuron with 4 inputs](https://nnfs.io/djp/)\n",
    "* [3 neuron layer with 4 inputs example](https://nnfs.io/mxo/)"
   ],
   "metadata": {
    "collapsed": false,
    "pycharm": {
     "name": "#%% md\n"
    }
   }
  },
  {
   "cell_type": "code",
   "execution_count": 2,
   "outputs": [
    {
     "data": {
      "text/plain": "2.8"
     },
     "execution_count": 2,
     "metadata": {},
     "output_type": "execute_result"
    }
   ],
   "source": [
    "def compute_output(inputs, weights, bias):\n",
    "    output = (\n",
    "            inputs[0] * weights[0] +\n",
    "            inputs[1] * weights[1] +\n",
    "            inputs[2] * weights[2] + bias\n",
    "    )\n",
    "    return output\n",
    "\n",
    "compute_output(\n",
    "    inputs=[0, 1, 2],\n",
    "    weights=[0.1, 0.2, 0.3],\n",
    "    bias=2\n",
    ")"
   ],
   "metadata": {
    "collapsed": false,
    "pycharm": {
     "name": "#%%\n"
    }
   }
  },
  {
   "cell_type": "markdown",
   "source": [],
   "metadata": {
    "collapsed": false,
    "pycharm": {
     "name": "#%% md\n"
    }
   }
  },
  {
   "cell_type": "code",
   "execution_count": 4,
   "outputs": [
    {
     "data": {
      "text/plain": "6.8"
     },
     "execution_count": 4,
     "metadata": {},
     "output_type": "execute_result"
    }
   ],
   "source": [
    "def compute_output2(inputs, weights, bias):\n",
    "    output = (\n",
    "            inputs[0] * weights[0] +\n",
    "            inputs[1] * weights[1] +\n",
    "            inputs[2] * weights[2] +\n",
    "            inputs[3] * weights[3] + bias\n",
    "    )\n",
    "    return output\n",
    "\n",
    "compute_output2(\n",
    "    inputs=[0, 1, 2, 3],\n",
    "    weights=[0.1, 0.2, 0.3, 1.0],\n",
    "    bias=3\n",
    ")"
   ],
   "metadata": {
    "collapsed": false,
    "pycharm": {
     "name": "#%%\n"
    }
   }
  },
  {
   "cell_type": "code",
   "execution_count": 11,
   "outputs": [
    {
     "data": {
      "text/plain": "[4.8, 1.21, 2.385]"
     },
     "execution_count": 11,
     "metadata": {},
     "output_type": "execute_result"
    }
   ],
   "source": [
    "def layer_with_three_neurons_and_four_inputs(inputs, weights, biases):\n",
    "    weights1, weights2, weights3 = weights\n",
    "    bias1, bias2, bias3 = biases\n",
    "\n",
    "    outputs = [\n",
    "        # Neuron 1:\n",
    "        inputs[0]*weights1[0] +\n",
    "        inputs[1]*weights1[1] +\n",
    "        inputs[2]*weights1[2] +\n",
    "        inputs[3]*weights1[3] + bias1,\n",
    "\n",
    "        # Neuron 2:\n",
    "        inputs[0]*weights2[0] +\n",
    "        inputs[1]*weights2[1] +\n",
    "        inputs[2]*weights2[2] +\n",
    "        inputs[3]*weights2[3] + bias2,\n",
    "\n",
    "        # Neuron 3:\n",
    "        inputs[0]*weights3[0] +\n",
    "        inputs[1]*weights3[1] +\n",
    "        inputs[2]*weights3[2] +\n",
    "        inputs[3]*weights3[3] + bias3\n",
    "    ]\n",
    "\n",
    "    return outputs\n",
    "\n",
    "layer_with_three_neurons_and_four_inputs(\n",
    "    inputs = [1, 2, 3, 2.5],\n",
    "    weights = [\n",
    "        [0.2, 0.8, -0.5, 1],\n",
    "        [0.5, -0.91, 0.26, -0.5],\n",
    "        [-0.26, -0.27, 0.17, 0.87]\n",
    "    ],\n",
    "    biases = [2, 3, 0.5]\n",
    ")"
   ],
   "metadata": {
    "collapsed": false,
    "pycharm": {
     "name": "#%%\n"
    }
   }
  },
  {
   "cell_type": "code",
   "execution_count": 12,
   "outputs": [
    {
     "data": {
      "text/plain": "[4.8, 1.21, 2.385]"
     },
     "execution_count": 12,
     "metadata": {},
     "output_type": "execute_result"
    }
   ],
   "source": [
    "def layer_with_neurons(inputs, weights, biases):\n",
    "    layer_outputs = []\n",
    "\n",
    "    for neuron_weights, neuron_bias in zip(weights, biases):\n",
    "        neuron_output = 0\n",
    "\n",
    "        for n_input, weight in zip(inputs, neuron_weights):\n",
    "            neuron_output += n_input * weight\n",
    "\n",
    "        neuron_output += neuron_bias\n",
    "        layer_outputs.append(neuron_output)\n",
    "\n",
    "    return layer_outputs\n",
    "\n",
    "\n",
    "layer_with_neurons(\n",
    "    inputs = [1, 2, 3, 2.5],\n",
    "    weights = [\n",
    "        [0.2, 0.8, -0.5, 1],\n",
    "        [0.5, -0.91, 0.26, -0.5],\n",
    "        [-0.26, -0.27, 0.17, 0.87]\n",
    "    ],\n",
    "    biases = [2, 3, 0.5]\n",
    ")"
   ],
   "metadata": {
    "collapsed": false,
    "pycharm": {
     "name": "#%%\n"
    }
   }
  },
  {
   "cell_type": "markdown",
   "source": [
    "# Dot product and vector addition\n",
    "* [Math behind the dot product](https://nnfs.io/xpo)"
   ],
   "metadata": {
    "collapsed": false,
    "pycharm": {
     "name": "#%% md\n"
    }
   }
  },
  {
   "cell_type": "code",
   "execution_count": 2,
   "outputs": [
    {
     "data": {
      "text/plain": "20"
     },
     "execution_count": 2,
     "metadata": {},
     "output_type": "execute_result"
    }
   ],
   "source": [
    "a = [1, 2, 3]\n",
    "b = [2, 3, 4]\n",
    "\n",
    "dot_product = a[0]*b[0] + a[1]*b[1] + a[2]*b[2]\n",
    "dot_product"
   ],
   "metadata": {
    "collapsed": false,
    "pycharm": {
     "name": "#%%\n"
    }
   }
  },
  {
   "cell_type": "markdown",
   "source": [
    "## A single Neuron with numpy"
   ],
   "metadata": {
    "collapsed": false
   }
  },
  {
   "cell_type": "code",
   "execution_count": 3,
   "outputs": [
    {
     "data": {
      "text/plain": "4.8"
     },
     "execution_count": 3,
     "metadata": {},
     "output_type": "execute_result"
    }
   ],
   "source": [
    "import numpy as np\n",
    "\n",
    "inputs = [1.0, 2.0, 3.0, 2.5]\n",
    "weights = [0.2, 0.8, -0.5, 1.0]\n",
    "bias = 2.0\n",
    "\n",
    "outputs = np.dot(weights, inputs) + bias\n",
    "outputs"
   ],
   "metadata": {
    "collapsed": false,
    "pycharm": {
     "name": "#%%\n"
    }
   }
  },
  {
   "cell_type": "markdown",
   "source": [
    "## A layer of Neurons with numpy"
   ],
   "metadata": {
    "collapsed": false
   }
  },
  {
   "cell_type": "code",
   "execution_count": 4,
   "outputs": [
    {
     "data": {
      "text/plain": "array([4.8  , 1.21 , 2.385])"
     },
     "execution_count": 4,
     "metadata": {},
     "output_type": "execute_result"
    }
   ],
   "source": [
    "inputs = [1.0, 2.0, 3.0, 2.5]\n",
    "weights = [\n",
    "    [0.2, 0.8, -0.5, 1.0],\n",
    "    [0.5, -0.91, 0.26, -0.5],\n",
    "    [-0.26, -0.27, 0.17, 0.87],\n",
    "]\n",
    "biases = [2.0, 3.0, 0.5]\n",
    "\n",
    "layer_outputs = np.dot(weights, inputs) + biases\n",
    "layer_outputs"
   ],
   "metadata": {
    "collapsed": false,
    "pycharm": {
     "name": "#%%\n"
    }
   }
  },
  {
   "cell_type": "markdown",
   "source": [
    "## A batch of inputs"
   ],
   "metadata": {
    "collapsed": false,
    "pycharm": {
     "name": "#%% md\n"
    }
   }
  },
  {
   "cell_type": "code",
   "execution_count": 13,
   "outputs": [
    {
     "data": {
      "text/plain": "array([[ 4.8  ,  9.9  , -0.09 ],\n       [ 0.21 , -1.81 , -1.449],\n       [ 3.885,  2.7  ,  0.026]])"
     },
     "execution_count": 13,
     "metadata": {},
     "output_type": "execute_result"
    }
   ],
   "source": [
    "inputs = [\n",
    "    [1, 2, 3, 2.5],\n",
    "    [2, 5, -1, 2],\n",
    "    [-1.5, 2.7, 3.3, -0.8]\n",
    "]\n",
    "weights = [\n",
    "    [0.2, 0.8, -0.5, 1.0],\n",
    "    [0.5, -0.91, 0.26, -0.5],\n",
    "    [-0.26, -0.27, 0.17, 0.87],\n",
    "]\n",
    "biases = [2.0, 3.0, 0.5]\n",
    "\n",
    "inputs = np.array(inputs).T\n",
    "weights = np.array(weights)\n",
    "\n",
    "layer_outputs = np.dot(weights, inputs) + biases\n",
    "layer_outputs"
   ],
   "metadata": {
    "collapsed": false,
    "pycharm": {
     "name": "#%%\n"
    }
   }
  },
  {
   "cell_type": "markdown",
   "source": [
    "# We will try something different now\n",
    "\n",
    "Before, we were modeling neuron output using a single sample of data, a vector, so we wanted the output to be neuron specific.\n",
    "Now we are modeling layer behavior on a batch of data. It’s more useful to have a list of outputs per sample than a list of neurons outputs.\n",
    "In other words, we want the result to be related to the samples rather than related to the  neurons.\n",
    "\n",
    "**the next layer expects a batch of inputs**\n",
    "\n",
    "also important: **NumPy will convert the input list to numpy matrices internally.**"
   ],
   "metadata": {
    "collapsed": false,
    "pycharm": {
     "name": "#%% md\n"
    }
   }
  },
  {
   "cell_type": "code",
   "execution_count": 18,
   "outputs": [
    {
     "data": {
      "text/plain": "array([[ 4.8  ,  1.21 ,  2.385],\n       [ 8.9  , -1.81 ,  0.2  ],\n       [ 1.41 ,  1.051,  0.026]])"
     },
     "execution_count": 18,
     "metadata": {},
     "output_type": "execute_result"
    }
   ],
   "source": [
    "inputs = [\n",
    "    [1.0, 2.0, 3.0, 2.5],\n",
    "    [2.0, 5.0, -1.0, 2.0],\n",
    "    [-1.5, 2.7, 3.3, -0.8]\n",
    "]\n",
    "weights = [\n",
    "    [0.2, 0.8, -0.5, 1.0],\n",
    "    [0.5, -0.91, 0.26, -0.5],\n",
    "    [-0.26, -0.27, 0.17, 0.87],\n",
    "]\n",
    "biases = [2.0, 3.0, 0.5]\n",
    "\n",
    "np.dot(\n",
    "    inputs,\n",
    "    np.array(weights).T\n",
    ") + biases"
   ],
   "metadata": {
    "collapsed": false,
    "pycharm": {
     "name": "#%%\n"
    }
   }
  },
  {
   "cell_type": "code",
   "execution_count": 19,
   "outputs": [
    {
     "data": {
      "text/plain": "array([[ 4.8  ,  1.21 ,  2.385],\n       [ 8.9  , -1.81 ,  0.2  ],\n       [ 1.41 ,  1.051,  0.026]])"
     },
     "execution_count": 19,
     "metadata": {},
     "output_type": "execute_result"
    }
   ],
   "source": [
    "def layer_with_np(inputs=[], weights=[], biases=[]):\n",
    "    layer_ouputs = np.dot(inputs, np.array(weights).T)\n",
    "    return layer_ouputs + biases\n",
    "\n",
    "layer_with_np(\n",
    "    inputs = [\n",
    "        [1.0, 2.0, 3.0, 2.5],\n",
    "        [2.0, 5.0, -1.0, 2.0],\n",
    "        [-1.5, 2.7, 3.3, -0.8]\n",
    "    ],\n",
    "    weights = [\n",
    "        [0.2, 0.8, -0.5, 1.0],\n",
    "        [0.5, -0.91, 0.26, -0.5],\n",
    "        [-0.26, -0.27, 0.17, 0.87],\n",
    "    ],\n",
    "    biases = [2.0, 3.0, 0.5]\n",
    ")"
   ],
   "metadata": {
    "collapsed": false,
    "pycharm": {
     "name": "#%%\n"
    }
   }
  },
  {
   "cell_type": "code",
   "execution_count": null,
   "outputs": [],
   "source": [],
   "metadata": {
    "collapsed": false,
    "pycharm": {
     "name": "#%%\n"
    }
   }
  }
 ],
 "metadata": {
  "kernelspec": {
   "display_name": "Python 3",
   "language": "python",
   "name": "python3"
  },
  "language_info": {
   "codemirror_mode": {
    "name": "ipython",
    "version": 2
   },
   "file_extension": ".py",
   "mimetype": "text/x-python",
   "name": "python",
   "nbconvert_exporter": "python",
   "pygments_lexer": "ipython2",
   "version": "2.7.6"
  }
 },
 "nbformat": 4,
 "nbformat_minor": 0
}